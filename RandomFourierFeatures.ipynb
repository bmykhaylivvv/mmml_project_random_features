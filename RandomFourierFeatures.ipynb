{
  "cells": [
    {
      "cell_type": "code",
      "execution_count": 2,
      "metadata": {
        "colab": {
          "base_uri": "https://localhost:8080/"
        },
        "id": "08IBguymYU1u",
        "outputId": "09fd9849-a1bc-4536-a236-7530f51e0810"
      },
      "outputs": [
        {
          "name": "stdout",
          "output_type": "stream",
          "text": [
            "Requirement already satisfied: google-cloud-storage in /Users/bohdan.mykhayliv/opt/anaconda3/lib/python3.9/site-packages (2.9.0)\n",
            "Requirement already satisfied: google-resumable-media>=2.3.2 in /Users/bohdan.mykhayliv/opt/anaconda3/lib/python3.9/site-packages (from google-cloud-storage) (2.5.0)\n",
            "Requirement already satisfied: requests<3.0.0dev,>=2.18.0 in /Users/bohdan.mykhayliv/opt/anaconda3/lib/python3.9/site-packages (from google-cloud-storage) (2.28.1)\n",
            "Requirement already satisfied: google-auth<3.0dev,>=1.25.0 in /Users/bohdan.mykhayliv/opt/anaconda3/lib/python3.9/site-packages (from google-cloud-storage) (2.17.3)\n",
            "Requirement already satisfied: google-cloud-core<3.0dev,>=2.3.0 in /Users/bohdan.mykhayliv/opt/anaconda3/lib/python3.9/site-packages (from google-cloud-storage) (2.3.2)\n",
            "Requirement already satisfied: google-api-core!=2.0.*,!=2.1.*,!=2.2.*,!=2.3.0,<3.0.0dev,>=1.31.5 in /Users/bohdan.mykhayliv/opt/anaconda3/lib/python3.9/site-packages (from google-cloud-storage) (2.11.0)\n",
            "Requirement already satisfied: googleapis-common-protos<2.0dev,>=1.56.2 in /Users/bohdan.mykhayliv/opt/anaconda3/lib/python3.9/site-packages (from google-api-core!=2.0.*,!=2.1.*,!=2.2.*,!=2.3.0,<3.0.0dev,>=1.31.5->google-cloud-storage) (1.59.0)\n",
            "Requirement already satisfied: protobuf!=3.20.0,!=3.20.1,!=4.21.0,!=4.21.1,!=4.21.2,!=4.21.3,!=4.21.4,!=4.21.5,<5.0.0dev,>=3.19.5 in /Users/bohdan.mykhayliv/opt/anaconda3/lib/python3.9/site-packages (from google-api-core!=2.0.*,!=2.1.*,!=2.2.*,!=2.3.0,<3.0.0dev,>=1.31.5->google-cloud-storage) (3.20.3)\n",
            "Requirement already satisfied: cachetools<6.0,>=2.0.0 in /Users/bohdan.mykhayliv/opt/anaconda3/lib/python3.9/site-packages (from google-auth<3.0dev,>=1.25.0->google-cloud-storage) (5.3.0)\n",
            "Requirement already satisfied: rsa<5,>=3.1.4 in /Users/bohdan.mykhayliv/opt/anaconda3/lib/python3.9/site-packages (from google-auth<3.0dev,>=1.25.0->google-cloud-storage) (4.9)\n",
            "Requirement already satisfied: six>=1.9.0 in /Users/bohdan.mykhayliv/opt/anaconda3/lib/python3.9/site-packages (from google-auth<3.0dev,>=1.25.0->google-cloud-storage) (1.16.0)\n",
            "Requirement already satisfied: pyasn1-modules>=0.2.1 in /Users/bohdan.mykhayliv/opt/anaconda3/lib/python3.9/site-packages (from google-auth<3.0dev,>=1.25.0->google-cloud-storage) (0.2.8)\n",
            "Requirement already satisfied: google-crc32c<2.0dev,>=1.0 in /Users/bohdan.mykhayliv/opt/anaconda3/lib/python3.9/site-packages (from google-resumable-media>=2.3.2->google-cloud-storage) (1.5.0)\n",
            "Requirement already satisfied: certifi>=2017.4.17 in /Users/bohdan.mykhayliv/opt/anaconda3/lib/python3.9/site-packages (from requests<3.0.0dev,>=2.18.0->google-cloud-storage) (2022.12.7)\n",
            "Requirement already satisfied: urllib3<1.27,>=1.21.1 in /Users/bohdan.mykhayliv/opt/anaconda3/lib/python3.9/site-packages (from requests<3.0.0dev,>=2.18.0->google-cloud-storage) (1.26.15)\n",
            "Requirement already satisfied: charset-normalizer<3,>=2 in /Users/bohdan.mykhayliv/opt/anaconda3/lib/python3.9/site-packages (from requests<3.0.0dev,>=2.18.0->google-cloud-storage) (2.0.4)\n",
            "Requirement already satisfied: idna<4,>=2.5 in /Users/bohdan.mykhayliv/opt/anaconda3/lib/python3.9/site-packages (from requests<3.0.0dev,>=2.18.0->google-cloud-storage) (3.4)\n",
            "Requirement already satisfied: pyasn1<0.5.0,>=0.4.6 in /Users/bohdan.mykhayliv/opt/anaconda3/lib/python3.9/site-packages (from pyasn1-modules>=0.2.1->google-auth<3.0dev,>=1.25.0->google-cloud-storage) (0.4.8)\n"
          ]
        }
      ],
      "source": [
        "from sklearn import svm\n",
        "import pandas as pd\n",
        "import matplotlib.pyplot as plt\n",
        "from sklearn.model_selection import train_test_split\n",
        "from sklearn.metrics.pairwise import rbf_kernel\n",
        "from sklearn.datasets import make_blobs\n",
        "from sklearn.metrics import mean_absolute_percentage_error\n",
        "import numpy as np\n",
        "!pip install google-cloud-storage\n",
        "from google.cloud import storage\n",
        "import os\n",
        "import time"
      ]
    },
    {
      "cell_type": "code",
      "execution_count": 3,
      "metadata": {
        "id": "cykLDnPQu8wV"
      },
      "outputs": [],
      "source": [
        "def download_public_file(bucket_name, source_blob_name, destination_file_name):\n",
        "    \"\"\"Downloads a public blob from the bucket.\"\"\"\n",
        "    # bucket_name = \"your-bucket-name\"\n",
        "    # source_blob_name = \"storage-object-name\"\n",
        "    # destination_file_name = \"local/path/to/file\"\n",
        "\n",
        "    storage_client = storage.Client.create_anonymous_client()\n",
        "\n",
        "    bucket = storage_client.bucket(bucket_name=bucket_name)\n",
        "    blob = bucket.blob(source_blob_name)\n",
        "    blob.download_to_filename(destination_file_name)\n",
        "\n",
        "    print(\n",
        "        \"Downloaded public blob {} from bucket {} to {}.\".format(\n",
        "            source_blob_name, bucket.name, destination_file_name\n",
        "        )\n",
        "    )"
      ]
    },
    {
      "attachments": {},
      "cell_type": "markdown",
      "metadata": {
        "id": "vEKcl_cV3e4l"
      },
      "source": [
        "# Download datasets"
      ]
    },
    {
      "cell_type": "code",
      "execution_count": 3,
      "metadata": {
        "colab": {
          "base_uri": "https://localhost:8080/"
        },
        "id": "_3BnkrpdzmzI",
        "outputId": "4a112657-15c5-4fc8-b53e-41cc6b56e6eb"
      },
      "outputs": [
        {
          "name": "stdout",
          "output_type": "stream",
          "text": [
            "Downloaded public blob bodyfat.csv from bucket mmml_project_datasets to bodyfat.csv.\n",
            "Downloaded public blob covtype_10.csv from bucket mmml_project_datasets to covtype_10.csv.\n",
            "Downloaded public blob letter.csv from bucket mmml_project_datasets to letter.csv.\n",
            "Downloaded public blob mnist_test.csv from bucket mmml_project_datasets to mnist_test.csv.\n",
            "Downloaded public blob star_classification.csv from bucket mmml_project_datasets to star_classification.csv.\n"
          ]
        }
      ],
      "source": [
        "bucket_name = \"mmml_project_datasets\"\n",
        "source_blob_names = [\"bodyfat.csv\", \"covtype_10.csv\", \"letter.csv\", \"mnist_test.csv\", \"star_classification.csv\"]\n",
        "\n",
        "for source_blob_name in source_blob_names:\n",
        "  destination_file_name = source_blob_name\n",
        "  download_public_file(bucket_name, source_blob_name, destination_file_name)"
      ]
    },
    {
      "attachments": {},
      "cell_type": "markdown",
      "metadata": {
        "id": "mDitqlO4dBRH"
      },
      "source": [
        "# SVM classification"
      ]
    },
    {
      "cell_type": "code",
      "execution_count": 5,
      "metadata": {
        "id": "IJPMraVVD-Zm"
      },
      "outputs": [],
      "source": [
        "def generate_kernel(d, s, m=100):\n",
        "    b = np.random.uniform(low=0, high=2*np.pi, size=(1,m))\n",
        "    W = np.random.multivariate_normal(mean=np.zeros(d), cov=2*s*np.eye(d), size=m) # m x d\n",
        "    def ker(x, y):\n",
        "        z1 = np.cos(x @ W.T + b)\n",
        "        z2 = np.cos(y @ W.T + b)\n",
        "        return z1 @ z2.T / m\n",
        "    return ker"
      ]
    },
    {
      "cell_type": "code",
      "execution_count": 6,
      "metadata": {
        "id": "VWjyFCxMw77h"
      },
      "outputs": [],
      "source": [
        "def test_svm(X, y, d, D, rff_run_iterations=1):\n",
        "  X = (X - np.mean(X)) / np.std(X) \n",
        "  X_train, X_test, y_train, y_test = train_test_split(X, y, test_size=0.33, random_state=0)\n",
        "\n",
        "  rbf_scores = np.empty(rff_run_iterations)\n",
        "  rbf_times = np.empty(rff_run_iterations)\n",
        "  rbf_mapes = np.empty(rff_run_iterations)\n",
        "\n",
        "  for i in range(rff_run_iterations):\n",
        "    print(\"RBF \", i)\n",
        "    \n",
        "    # Test RBF kernel\n",
        "    clf_covtype = svm.SVC()\n",
        "    start = time.time()\n",
        "    clf_covtype.fit(X_train, y_train)\n",
        "    \n",
        "    end = time.time()\n",
        "\n",
        "    rbf_times[i] = end - start\n",
        "\n",
        "    pred = clf_covtype.predict(X_test)\n",
        "    result = np.isclose(pred, y_test)\n",
        "\n",
        "    rbf_mapes[i] = mean_absolute_percentage_error(pred, y_test)\n",
        "    rbf_scores[i] = np.count_nonzero(result == True) / len(y_test)\n",
        "\n",
        "  print('RBF Time: ', np.mean(rbf_times))\n",
        "  print('RBF Score: ', np.mean(rbf_scores))\n",
        "  print('RBF MAPE: ', np.mean(rbf_mapes))\n",
        "\n",
        "  rff_scores = np.empty(rff_run_iterations)\n",
        "  rff_times = np.empty(rff_run_iterations)\n",
        "  rff_mapes = np.empty(rff_run_iterations)\n",
        "\n",
        "  for i in range(rff_run_iterations):\n",
        "    print(\"RFF \", i)\n",
        "\n",
        "    rff_clf_covtype = svm.SVC(kernel=generate_kernel(d, 1/d, D))\n",
        "    start = time.time()\n",
        "    rff_clf_covtype.fit(X_train, y_train)\n",
        "    end = time.time()\n",
        "\n",
        "    rff_times[i] = end - start\n",
        "\n",
        "    pred = rff_clf_covtype.predict(X_test)\n",
        "    result = np.isclose(pred, y_test)\n",
        "\n",
        "    rff_mapes[i] = mean_absolute_percentage_error(pred, y_test)\n",
        "    rff_scores[i] = np.count_nonzero(result == True) / len(y_test)\n",
        "  \n",
        "  print('\\n---\\n')\n",
        "  print('RFF Time: ', np.mean(rff_times))\n",
        "  print('RFF Score: ', np.mean(rff_scores))\n",
        "  print('RFF MAPE: ', np.mean(rff_mapes))"
      ]
    },
    {
      "attachments": {},
      "cell_type": "markdown",
      "metadata": {
        "id": "Zsk5bQ3OePmn"
      },
      "source": [
        "## Synthetic dataset\n"
      ]
    },
    {
      "cell_type": "code",
      "execution_count": 9,
      "metadata": {
        "id": "B12n_UBjfSUo"
      },
      "outputs": [],
      "source": [
        "num_samples = 10000\n",
        "num_features = 700\n",
        "\n",
        "X, y = X, y = make_blobs(n_samples=num_samples, centers=2, n_features=num_features, cluster_std=2, random_state=0)"
      ]
    },
    {
      "attachments": {},
      "cell_type": "markdown",
      "metadata": {
        "id": "xRpuq8-tfqXM"
      },
      "source": [
        "#### RFF Kernel"
      ]
    },
    {
      "cell_type": "code",
      "execution_count": 10,
      "metadata": {
        "colab": {
          "base_uri": "https://localhost:8080/"
        },
        "id": "RbMRoZKfyn6m",
        "outputId": "8e16a2b2-bdab-47fc-f4d8-0242605f83a6"
      },
      "outputs": [
        {
          "name": "stdout",
          "output_type": "stream",
          "text": [
            "RBF  0\n",
            "RBF  1\n",
            "RBF  2\n",
            "RBF  3\n",
            "RBF  4\n",
            "RBF Time:  0.4840841770172119\n",
            "RBF Score:  1.0\n",
            "RBF MAPE:  0.0\n",
            "RFF  0\n",
            "RFF  1\n",
            "RFF  2\n",
            "RFF  3\n",
            "RFF  4\n",
            "\n",
            "---\n",
            "\n",
            "RFF Time:  0.19872946739196778\n",
            "RFF Score:  1.0\n",
            "RFF MAPE:  0.0\n"
          ]
        }
      ],
      "source": [
        "test_svm(X, y, X.shape[1], 50, 5)"
      ]
    },
    {
      "cell_type": "code",
      "execution_count": null,
      "metadata": {},
      "outputs": [],
      "source": []
    },
    {
      "cell_type": "code",
      "execution_count": null,
      "metadata": {},
      "outputs": [],
      "source": []
    },
    {
      "attachments": {},
      "cell_type": "markdown",
      "metadata": {
        "id": "rz5hglCE3mr1"
      },
      "source": [
        "## letter.csv"
      ]
    },
    {
      "cell_type": "code",
      "execution_count": 73,
      "metadata": {
        "colab": {
          "base_uri": "https://localhost:8080/"
        },
        "id": "hWDakVAiYrU0",
        "outputId": "93eac9f4-041e-4fa7-9d1d-441e77f286e1"
      },
      "outputs": [
        {
          "name": "stdout",
          "output_type": "stream",
          "text": [
            "(15000, 17)\n",
            "   to_predict         1         2         3         4         5         6  \\\n",
            "0          26 -0.733333 -0.466667 -0.466667 -0.600000 -0.733333 -0.066667   \n",
            "1          16 -0.466667 -0.066667 -0.333333 -0.333333 -0.333333 -0.333333   \n",
            "2          19 -0.066667  0.333333  0.066667 -0.066667 -0.466667  0.066667   \n",
            "3           8 -0.466667  0.200000 -0.333333 -0.066667 -0.466667 -0.066667   \n",
            "4           8 -0.200000 -0.066667  0.066667 -0.333333 -0.466667 -0.066667   \n",
            "\n",
            "          7         8         9        10        11        12        13  \\\n",
            "0  0.066667 -0.733333  0.200000  0.466667 -0.066667 -0.066667 -0.866667   \n",
            "1  0.200000 -0.200000 -0.466667  0.066667 -0.066667  0.200000 -0.733333   \n",
            "2  0.066667 -0.333333  0.333333  0.466667 -0.733333  0.066667 -0.733333   \n",
            "3 -0.066667  0.733333 -0.866667 -0.066667 -0.200000  0.066667 -0.600000   \n",
            "4 -0.200000 -0.600000 -0.066667  0.333333 -0.066667  0.200000 -0.600000   \n",
            "\n",
            "         14        15        16  \n",
            "0  0.066667 -0.333333 -0.200000  \n",
            "1  0.200000 -0.066667  0.333333  \n",
            "2 -0.333333 -0.333333  0.333333  \n",
            "3  0.066667 -1.000000  0.066667  \n",
            "4  0.066667 -0.600000 -0.066667  \n"
          ]
        }
      ],
      "source": [
        "df_letter = pd.read_csv(\"letter.csv\")\n",
        "df_letter = df_letter.drop(df_letter.columns[0], axis=1)\n",
        "print(df_letter.shape)\n",
        "print(df_letter.head())"
      ]
    },
    {
      "cell_type": "code",
      "execution_count": 74,
      "metadata": {
        "id": "g9H2dxMSZBqF"
      },
      "outputs": [],
      "source": [
        "y_letter = df_letter['to_predict'].to_numpy()\n",
        "\n",
        "X_letter = df_letter.drop(\"to_predict\", axis=1).to_numpy()"
      ]
    },
    {
      "cell_type": "code",
      "execution_count": 76,
      "metadata": {
        "colab": {
          "base_uri": "https://localhost:8080/"
        },
        "id": "tPiehMKwwUVp",
        "outputId": "b75bc096-dfec-41af-8661-0a851c479cf2"
      },
      "outputs": [
        {
          "name": "stdout",
          "output_type": "stream",
          "text": [
            "RBF  0\n",
            "RBF  1\n",
            "RBF  2\n",
            "RBF  3\n",
            "RBF  4\n",
            "RBF Time:  2.0277395248413086\n",
            "RBF Score:  0.9082828282828282\n",
            "RBF MAPE:  0.11737751876380734\n",
            "RFF  0\n",
            "RFF  1\n",
            "RFF  2\n",
            "RFF  3\n",
            "RFF  4\n",
            "\n",
            "---\n",
            "\n",
            "RFF Time:  1.667382001876831\n",
            "RFF Score:  0.8663030303030304\n",
            "RFF MAPE:  0.1998905702116441\n"
          ]
        }
      ],
      "source": [
        "test_svm(X_letter, y_letter, X_letter.shape[1], 300, 5)"
      ]
    },
    {
      "attachments": {},
      "cell_type": "markdown",
      "metadata": {
        "id": "OuVTbVPF3vUT"
      },
      "source": [
        "## covtype.csv"
      ]
    },
    {
      "cell_type": "code",
      "execution_count": 1,
      "metadata": {
        "colab": {
          "base_uri": "https://localhost:8080/"
        },
        "id": "-riHrzkZc_4E",
        "outputId": "15d4eae1-3e2e-42b2-914e-078fafc55717"
      },
      "outputs": [
        {
          "ename": "NameError",
          "evalue": "name 'pd' is not defined",
          "output_type": "error",
          "traceback": [
            "\u001b[0;31m---------------------------------------------------------------------------\u001b[0m",
            "\u001b[0;31mNameError\u001b[0m                                 Traceback (most recent call last)",
            "Cell \u001b[0;32mIn[1], line 1\u001b[0m\n\u001b[0;32m----> 1\u001b[0m df_covtype \u001b[39m=\u001b[39m pd\u001b[39m.\u001b[39mread_csv(\u001b[39m\"\u001b[39m\u001b[39mcovtype_10.csv\u001b[39m\u001b[39m\"\u001b[39m)\n\u001b[1;32m      2\u001b[0m df_covtype \u001b[39m=\u001b[39m df_covtype\u001b[39m.\u001b[39mdrop(df_covtype\u001b[39m.\u001b[39mcolumns[\u001b[39m0\u001b[39m], axis\u001b[39m=\u001b[39m\u001b[39m1\u001b[39m)\n\u001b[1;32m      3\u001b[0m \u001b[39mprint\u001b[39m(df_covtype\u001b[39m.\u001b[39mshape)\n",
            "\u001b[0;31mNameError\u001b[0m: name 'pd' is not defined"
          ]
        }
      ],
      "source": [
        "df_covtype = pd.read_csv(\"covtype_10.csv\")\n",
        "df_covtype = df_covtype.drop(df_covtype.columns[0], axis=1)\n",
        "print(df_covtype.shape)\n",
        "print(df_covtype.head())"
      ]
    },
    {
      "cell_type": "code",
      "execution_count": 71,
      "metadata": {
        "id": "PN9d2Cc-4Csl"
      },
      "outputs": [],
      "source": [
        "y_covtype = df_covtype['Cover_Type'].to_numpy()[:30000]\n",
        "\n",
        "X_covtype = df_covtype.drop(\"Cover_Type\", axis=1).to_numpy()[:30000]"
      ]
    },
    {
      "cell_type": "code",
      "execution_count": 72,
      "metadata": {
        "colab": {
          "base_uri": "https://localhost:8080/"
        },
        "id": "9uzf9Y8ixXr1",
        "outputId": "42ab306a-181c-4f94-e54d-40dca4a93e56"
      },
      "outputs": [
        {
          "name": "stdout",
          "output_type": "stream",
          "text": [
            "RBF  0\n",
            "RBF  1\n",
            "RBF  2\n",
            "RBF  3\n",
            "RBF  4\n",
            "RBF Time:  27.849138975143433\n",
            "RBF Score:  0.6913131313131313\n",
            "RBF MAPE:  0.42607744107744117\n",
            "RFF  0\n",
            "RFF  1\n",
            "RFF  2\n",
            "RFF  3\n",
            "RFF  4\n",
            "\n",
            "---\n",
            "\n",
            "RFF Time:  9.477790832519531\n",
            "RFF Score:  0.6872727272727271\n",
            "RFF MAPE:  0.42908080808080806\n"
          ]
        }
      ],
      "source": [
        "test_svm(X_covtype, y_covtype, X_covtype.shape[1], 500, 5)"
      ]
    },
    {
      "attachments": {},
      "cell_type": "markdown",
      "metadata": {
        "id": "NoXxaL2EgIGB"
      },
      "source": [
        "## star classification"
      ]
    },
    {
      "cell_type": "code",
      "execution_count": 20,
      "metadata": {
        "id": "lq45uIkv2Tw5"
      },
      "outputs": [],
      "source": [
        "def vectorize_class(value):\n",
        "  if value == \"GALAXY\":\n",
        "    return 0\n",
        "  if value == \"STAR\":\n",
        "    return 1\n",
        "  return 2"
      ]
    },
    {
      "cell_type": "code",
      "execution_count": 21,
      "metadata": {
        "colab": {
          "base_uri": "https://localhost:8080/",
          "height": 268
        },
        "id": "uzxng3-SgMaP",
        "outputId": "cc027cd1-a318-4b55-d26d-d7796ac40335"
      },
      "outputs": [
        {
          "name": "stdout",
          "output_type": "stream",
          "text": [
            "(100000, 10)\n"
          ]
        },
        {
          "data": {
            "text/html": [
              "<div>\n",
              "<style scoped>\n",
              "    .dataframe tbody tr th:only-of-type {\n",
              "        vertical-align: middle;\n",
              "    }\n",
              "\n",
              "    .dataframe tbody tr th {\n",
              "        vertical-align: top;\n",
              "    }\n",
              "\n",
              "    .dataframe thead th {\n",
              "        text-align: right;\n",
              "    }\n",
              "</style>\n",
              "<table border=\"1\" class=\"dataframe\">\n",
              "  <thead>\n",
              "    <tr style=\"text-align: right;\">\n",
              "      <th></th>\n",
              "      <th>obj_ID</th>\n",
              "      <th>alpha</th>\n",
              "      <th>delta</th>\n",
              "      <th>u</th>\n",
              "      <th>g</th>\n",
              "      <th>r</th>\n",
              "      <th>i</th>\n",
              "      <th>z</th>\n",
              "      <th>class</th>\n",
              "      <th>redshift</th>\n",
              "    </tr>\n",
              "  </thead>\n",
              "  <tbody>\n",
              "    <tr>\n",
              "      <th>0</th>\n",
              "      <td>1.237661e+18</td>\n",
              "      <td>135.689107</td>\n",
              "      <td>32.494632</td>\n",
              "      <td>23.87882</td>\n",
              "      <td>22.27530</td>\n",
              "      <td>20.39501</td>\n",
              "      <td>19.16573</td>\n",
              "      <td>18.79371</td>\n",
              "      <td>0</td>\n",
              "      <td>0.634794</td>\n",
              "    </tr>\n",
              "    <tr>\n",
              "      <th>1</th>\n",
              "      <td>1.237665e+18</td>\n",
              "      <td>144.826101</td>\n",
              "      <td>31.274185</td>\n",
              "      <td>24.77759</td>\n",
              "      <td>22.83188</td>\n",
              "      <td>22.58444</td>\n",
              "      <td>21.16812</td>\n",
              "      <td>21.61427</td>\n",
              "      <td>0</td>\n",
              "      <td>0.779136</td>\n",
              "    </tr>\n",
              "    <tr>\n",
              "      <th>2</th>\n",
              "      <td>1.237661e+18</td>\n",
              "      <td>142.188790</td>\n",
              "      <td>35.582444</td>\n",
              "      <td>25.26307</td>\n",
              "      <td>22.66389</td>\n",
              "      <td>20.60976</td>\n",
              "      <td>19.34857</td>\n",
              "      <td>18.94827</td>\n",
              "      <td>0</td>\n",
              "      <td>0.644195</td>\n",
              "    </tr>\n",
              "    <tr>\n",
              "      <th>3</th>\n",
              "      <td>1.237663e+18</td>\n",
              "      <td>338.741038</td>\n",
              "      <td>-0.402828</td>\n",
              "      <td>22.13682</td>\n",
              "      <td>23.77656</td>\n",
              "      <td>21.61162</td>\n",
              "      <td>20.50454</td>\n",
              "      <td>19.25010</td>\n",
              "      <td>0</td>\n",
              "      <td>0.932346</td>\n",
              "    </tr>\n",
              "    <tr>\n",
              "      <th>4</th>\n",
              "      <td>1.237680e+18</td>\n",
              "      <td>345.282593</td>\n",
              "      <td>21.183866</td>\n",
              "      <td>19.43718</td>\n",
              "      <td>17.58028</td>\n",
              "      <td>16.49747</td>\n",
              "      <td>15.97711</td>\n",
              "      <td>15.54461</td>\n",
              "      <td>0</td>\n",
              "      <td>0.116123</td>\n",
              "    </tr>\n",
              "  </tbody>\n",
              "</table>\n",
              "</div>"
            ],
            "text/plain": [
              "         obj_ID       alpha      delta         u         g         r  \\\n",
              "0  1.237661e+18  135.689107  32.494632  23.87882  22.27530  20.39501   \n",
              "1  1.237665e+18  144.826101  31.274185  24.77759  22.83188  22.58444   \n",
              "2  1.237661e+18  142.188790  35.582444  25.26307  22.66389  20.60976   \n",
              "3  1.237663e+18  338.741038  -0.402828  22.13682  23.77656  21.61162   \n",
              "4  1.237680e+18  345.282593  21.183866  19.43718  17.58028  16.49747   \n",
              "\n",
              "          i         z  class  redshift  \n",
              "0  19.16573  18.79371      0  0.634794  \n",
              "1  21.16812  21.61427      0  0.779136  \n",
              "2  19.34857  18.94827      0  0.644195  \n",
              "3  20.50454  19.25010      0  0.932346  \n",
              "4  15.97711  15.54461      0  0.116123  "
            ]
          },
          "execution_count": 21,
          "metadata": {},
          "output_type": "execute_result"
        }
      ],
      "source": [
        "df_star = pd.read_csv(\"star_classification.csv\")\n",
        "df_star = df_star.drop([\"rerun_ID\", \"run_ID\", \"cam_col\", \"field_ID\", \"spec_obj_ID\", \"plate\", \"MJD\", \"fiber_ID\"], axis=1)\n",
        "df_star['class'] = df_star['class'].apply(lambda row: vectorize_class(row))\n",
        "print(df_star.shape)\n",
        "df_star.head()"
      ]
    },
    {
      "cell_type": "code",
      "execution_count": 24,
      "metadata": {
        "id": "r_ISzPZn2563"
      },
      "outputs": [],
      "source": [
        "y_star = df_star['class'].to_numpy()[:50000]\n",
        "\n",
        "X_star = df_star.drop(\"class\", axis=1).to_numpy()[:50000]"
      ]
    },
    {
      "cell_type": "code",
      "execution_count": 25,
      "metadata": {
        "colab": {
          "base_uri": "https://localhost:8080/"
        },
        "id": "ZlDdCFVpyyK-",
        "outputId": "b5bf79a1-e297-4b45-8ae6-e9be15ae570b"
      },
      "outputs": [
        {
          "name": "stdout",
          "output_type": "stream",
          "text": [
            "RBF  0\n",
            "RBF  1\n",
            "RBF  2\n",
            "RBF  3\n",
            "RBF  4\n",
            "RBF Time:  38.15086002349854\n",
            "RBF Score:  0.5921212121212122\n",
            "RBF MAPE:  2697792649510908.0\n",
            "RFF  0\n",
            "RFF  1\n",
            "RFF  2\n",
            "RFF  3\n",
            "RFF  4\n",
            "\n",
            "---\n",
            "\n",
            "RFF Time:  21.72342677116394\n",
            "RFF Score:  0.5921212121212122\n",
            "RFF MAPE:  2697792649510908.0\n"
          ]
        }
      ],
      "source": [
        "test_svm(X_star, y_star, X_star.shape[1], 500, 5)"
      ]
    },
    {
      "attachments": {},
      "cell_type": "markdown",
      "metadata": {
        "id": "GJDVvb5BffK8"
      },
      "source": [
        "## MNIST"
      ]
    },
    {
      "cell_type": "code",
      "execution_count": 14,
      "metadata": {
        "colab": {
          "base_uri": "https://localhost:8080/"
        },
        "id": "F4hZgGxJdBr3",
        "outputId": "30e67887-8d23-43f3-b5a1-700e220abecf"
      },
      "outputs": [
        {
          "name": "stdout",
          "output_type": "stream",
          "text": [
            "   label  1x1  1x2  1x3  1x4  1x5  1x6  1x7  1x8  1x9  ...  28x19  28x20  \\\n",
            "0      7    0    0    0    0    0    0    0    0    0  ...      0      0   \n",
            "1      2    0    0    0    0    0    0    0    0    0  ...      0      0   \n",
            "2      1    0    0    0    0    0    0    0    0    0  ...      0      0   \n",
            "3      0    0    0    0    0    0    0    0    0    0  ...      0      0   \n",
            "4      4    0    0    0    0    0    0    0    0    0  ...      0      0   \n",
            "\n",
            "   28x21  28x22  28x23  28x24  28x25  28x26  28x27  28x28  \n",
            "0      0      0      0      0      0      0      0      0  \n",
            "1      0      0      0      0      0      0      0      0  \n",
            "2      0      0      0      0      0      0      0      0  \n",
            "3      0      0      0      0      0      0      0      0  \n",
            "4      0      0      0      0      0      0      0      0  \n",
            "\n",
            "[5 rows x 785 columns]\n"
          ]
        }
      ],
      "source": [
        "df_mnist = pd.read_csv(\"mnist_test.csv\")\n",
        "print(df_mnist.head())"
      ]
    },
    {
      "cell_type": "code",
      "execution_count": 15,
      "metadata": {
        "id": "RwMFklfJfnBX"
      },
      "outputs": [],
      "source": [
        "y_mnist = df_mnist.label.values\n",
        "\n",
        "X_mnist = df_mnist[df_mnist.columns[1:]].values / 255"
      ]
    },
    {
      "cell_type": "code",
      "execution_count": 16,
      "metadata": {},
      "outputs": [
        {
          "data": {
            "text/plain": [
              "(10000, 784)"
            ]
          },
          "execution_count": 16,
          "metadata": {},
          "output_type": "execute_result"
        }
      ],
      "source": [
        "X_mnist.shape"
      ]
    },
    {
      "cell_type": "code",
      "execution_count": 17,
      "metadata": {
        "colab": {
          "base_uri": "https://localhost:8080/"
        },
        "id": "J6g4P81aScHx",
        "outputId": "aaf7cbce-88b3-4c63-8522-bd07f418a7d0"
      },
      "outputs": [
        {
          "name": "stdout",
          "output_type": "stream",
          "text": [
            "RBF  0\n",
            "RBF  1\n",
            "RBF  2\n",
            "RBF  3\n",
            "RBF  4\n",
            "RBF Time:  5.92200608253479\n",
            "RBF Score:  0.9624242424242425\n",
            "RBF MAPE:  103719264145502.38\n",
            "RFF  0\n",
            "RFF  1\n",
            "RFF  2\n",
            "RFF  3\n",
            "RFF  4\n",
            "\n",
            "---\n",
            "\n",
            "RFF Time:  0.9517799854278565\n",
            "RFF Score:  0.9377575757575757\n",
            "RFF MAPE:  154214169058444.3\n"
          ]
        }
      ],
      "source": [
        "test_svm(X_mnist, y_mnist, X_mnist.shape[1], 500, 5)"
      ]
    }
  ],
  "metadata": {
    "colab": {
      "provenance": []
    },
    "kernelspec": {
      "display_name": "Python 3",
      "name": "python3"
    },
    "language_info": {
      "codemirror_mode": {
        "name": "ipython",
        "version": 3
      },
      "file_extension": ".py",
      "mimetype": "text/x-python",
      "name": "python",
      "nbconvert_exporter": "python",
      "pygments_lexer": "ipython3",
      "version": "3.9.13"
    }
  },
  "nbformat": 4,
  "nbformat_minor": 0
}
