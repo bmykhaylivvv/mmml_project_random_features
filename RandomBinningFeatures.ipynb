{
  "cells": [
    {
      "attachments": {},
      "cell_type": "markdown",
      "metadata": {
        "id": "hnshjnOe4ZdX"
      },
      "source": [
        "# Random binning features"
      ]
    },
    {
      "cell_type": "code",
      "execution_count": 2,
      "metadata": {
        "id": "6y8hdwRCb-nM"
      },
      "outputs": [],
      "source": [
        "import numpy as np\n",
        "from sklearn.datasets import make_blobs\n",
        "from sklearn.model_selection import train_test_split\n",
        "from sklearn.svm import SVC\n",
        "from sklearn import metrics\n",
        "import pandas as pd\n",
        "from scipy import stats\n",
        "\n",
        "from time import time"
      ]
    },
    {
      "cell_type": "code",
      "execution_count": 3,
      "metadata": {
        "id": "F2rqRbSKpmLo"
      },
      "outputs": [],
      "source": [
        "def get_blobs(N, D, cluster_std):\n",
        "  return make_blobs(n_samples=N, centers=2, n_features=D, cluster_std=cluster_std, random_state=0)\n",
        "\n",
        "def generate_data(N, D, cluster_std, normalize=True):\n",
        "  \n",
        "  X, y = get_blobs(N, D, cluster_std)\n",
        "  \n",
        "  if normalize:\n",
        "    X = (X - np.mean(X, axis=0)) / np.std(X, axis=0)\n",
        "\n",
        "  return train_test_split(X, y, train_size=0.7)\n",
        "\n"
      ]
    },
    {
      "cell_type": "code",
      "execution_count": 4,
      "metadata": {
        "id": "FIbbX81R3Qx7"
      },
      "outputs": [],
      "source": [
        "def sample_delta(size):\n",
        "   gamma = stats.gamma(a=2, scale=1)\n",
        "   return gamma.rvs(size=size)\n",
        "\n",
        "def sample_parameter_rvs(P, d):\n",
        "  delta = sample_delta((P, d))\n",
        "  u = np.random.uniform(low=0, high=delta, size=(P, d))\n",
        "\n",
        "\n",
        "  assert np.all(u <= delta), 'Something with the bound of u'\n",
        "  assert np.all(delta > 0), 'Deltas should be positive'\n",
        "\n",
        "  return delta, u"
      ]
    },
    {
      "cell_type": "code",
      "execution_count": 5,
      "metadata": {
        "id": "xr1N8UtfpMu0"
      },
      "outputs": [],
      "source": [
        "def random_binning_features_matrix(X, delta, u, P=350, TEMP_VECTOR_SIZE = 128):\n",
        "    \"\"\"\n",
        "    X is (n, d) matrix\n",
        "    delta is (n, d)\n",
        "    u is (n,d)\n",
        "    Returns (TEMP_VECTOR_SIZE, P) matrix\n",
        "    \"\"\"\n",
        "    \n",
        "    n, d = X.shape\n",
        "    Z = np.zeros((n, P * TEMP_VECTOR_SIZE)) \n",
        "\n",
        "\n",
        "    for p in range(P):\n",
        "        delta_p, u_p = delta[p], u[p]\n",
        "\n",
        "        tmp = np.zeros((n, TEMP_VECTOR_SIZE))\n",
        "        bin_index = np.ceil((X - u_p) / delta_p).astype('int')\n",
        "\n",
        "        for i in range(n):\n",
        "\n",
        "          idx = bin_index[i] % TEMP_VECTOR_SIZE\n",
        "          tmp[i, idx] += 1\n",
        "\n",
        "        Z[:, p * TEMP_VECTOR_SIZE: (p+1) * TEMP_VECTOR_SIZE] = tmp\n",
        "    \n",
        "    return 1/ np.sqrt(P) * Z\n"
      ]
    },
    {
      "cell_type": "code",
      "execution_count": 6,
      "metadata": {
        "id": "qybs_4Jvk_lU"
      },
      "outputs": [],
      "source": [
        "def evaluate_random_binning_SVM(X, y, P, iterations):\n",
        "  X_norm = (X - np.mean(X, axis=0)) / np.std(X, axis=0)\n",
        "  X_train, X_test, y_train, y_test = train_test_split(X,y)\n",
        "\n",
        "  n, d = X_train.shape\n",
        "\n",
        "\n",
        "  scores = np.empty(iterations)\n",
        "  times = np.empty(iterations)\n",
        "\n",
        "  for i in range(iterations):\n",
        "\n",
        "    start_time = time()\n",
        "\n",
        "    delta, u = sample_parameter_rvs(P, d)\n",
        "    Zx = random_binning_features_matrix(X_train, delta, u, P)\n",
        "    K_train = Zx @ Zx.T\n",
        "  \n",
        "\n",
        "    clf = SVC(kernel='precomputed') # kernel should return nxn matrix\n",
        "    clf.fit(K_train, y_train)\n",
        "\n",
        "    end_time = time()\n",
        "\n",
        "    Zy = random_binning_features_matrix(X_test, delta, u, P)\n",
        "    K_test = Zy @ Zx.T\n",
        "    y_pred = clf.predict(K_test)\n",
        "\n",
        "    times[i] = end_time - start_time\n",
        "    scores[i] = metrics.accuracy_score(y_test, y_pred)\n",
        "    print('-' * 20)\n",
        "    print(f'Iteration #{i + 1}/{iterations}')\n",
        "    print(f'Time passed: {times[i]}')\n",
        "    print(f'Accuracy score: {scores[i]}')\n",
        "\n",
        "  \n",
        "  print('-' * 20)\n",
        "  print('FINAL AVERAGE VALUES')\n",
        "  print(f'Mean time: {np.mean(times)}')\n",
        "  print(f'Mean accuracy: {np.mean(scores)}')\n",
        "  \n",
        "\n",
        "\n",
        "\n",
        "\n"
      ]
    },
    {
      "cell_type": "code",
      "execution_count": 14,
      "metadata": {
        "colab": {
          "base_uri": "https://localhost:8080/"
        },
        "id": "_3mrklvocG6D",
        "outputId": "f3532aa6-468c-4c5a-a2a8-072f90e2cbcd"
      },
      "outputs": [
        {
          "name": "stdout",
          "output_type": "stream",
          "text": [
            "--------------------\n",
            "Iteration #1/5\n",
            "Time passed: 158.22926807403564\n",
            "Accuracy score: 1.0\n",
            "--------------------\n",
            "Iteration #2/5\n",
            "Time passed: 202.68652868270874\n",
            "Accuracy score: 1.0\n",
            "--------------------\n",
            "Iteration #3/5\n",
            "Time passed: 191.85163688659668\n",
            "Accuracy score: 1.0\n",
            "--------------------\n",
            "Iteration #4/5\n",
            "Time passed: 189.53769993782043\n",
            "Accuracy score: 0.99992\n",
            "--------------------\n",
            "Iteration #5/5\n",
            "Time passed: 182.57079482078552\n",
            "Accuracy score: 1.0\n",
            "--------------------\n",
            "FINAL AVERAGE VALUES\n",
            "Mean time: 184.97518568038942\n",
            "Mean accuracy: 0.9999839999999999\n"
          ]
        }
      ],
      "source": [
        "evaluate_random_binning_SVM(*get_blobs(50000, 2000, cluster_std=2), P=30, iterations=5)"
      ]
    },
    {
      "attachments": {},
      "cell_type": "markdown",
      "metadata": {},
      "source": [
        "## letter.csv\n"
      ]
    },
    {
      "cell_type": "code",
      "execution_count": 9,
      "metadata": {},
      "outputs": [
        {
          "name": "stdout",
          "output_type": "stream",
          "text": [
            "(15000, 17)\n",
            "   to_predict         1         2         3         4         5         6  \\\n",
            "0          26 -0.733333 -0.466667 -0.466667 -0.600000 -0.733333 -0.066667   \n",
            "1          16 -0.466667 -0.066667 -0.333333 -0.333333 -0.333333 -0.333333   \n",
            "2          19 -0.066667  0.333333  0.066667 -0.066667 -0.466667  0.066667   \n",
            "3           8 -0.466667  0.200000 -0.333333 -0.066667 -0.466667 -0.066667   \n",
            "4           8 -0.200000 -0.066667  0.066667 -0.333333 -0.466667 -0.066667   \n",
            "\n",
            "          7         8         9        10        11        12        13  \\\n",
            "0  0.066667 -0.733333  0.200000  0.466667 -0.066667 -0.066667 -0.866667   \n",
            "1  0.200000 -0.200000 -0.466667  0.066667 -0.066667  0.200000 -0.733333   \n",
            "2  0.066667 -0.333333  0.333333  0.466667 -0.733333  0.066667 -0.733333   \n",
            "3 -0.066667  0.733333 -0.866667 -0.066667 -0.200000  0.066667 -0.600000   \n",
            "4 -0.200000 -0.600000 -0.066667  0.333333 -0.066667  0.200000 -0.600000   \n",
            "\n",
            "         14        15        16  \n",
            "0  0.066667 -0.333333 -0.200000  \n",
            "1  0.200000 -0.066667  0.333333  \n",
            "2 -0.333333 -0.333333  0.333333  \n",
            "3  0.066667 -1.000000  0.066667  \n",
            "4  0.066667 -0.600000 -0.066667  \n"
          ]
        }
      ],
      "source": [
        "df_letter = pd.read_csv(\"letter.csv\")\n",
        "df_letter = df_letter.drop(df_letter.columns[0], axis=1)\n",
        "print(df_letter.shape)\n",
        "print(df_letter.head())"
      ]
    },
    {
      "attachments": {},
      "cell_type": "markdown",
      "metadata": {},
      "source": []
    },
    {
      "cell_type": "code",
      "execution_count": 10,
      "metadata": {},
      "outputs": [],
      "source": [
        "y_letter = df_letter['to_predict'].to_numpy()\n",
        "\n",
        "X_letter = df_letter.drop(\"to_predict\", axis=1).to_numpy()"
      ]
    },
    {
      "cell_type": "code",
      "execution_count": 13,
      "metadata": {},
      "outputs": [
        {
          "name": "stdout",
          "output_type": "stream",
          "text": [
            "--------------------\n",
            "Iteration #1/5\n",
            "Time passed: 6.785836935043335\n",
            "Accuracy score: 0.7792\n",
            "--------------------\n",
            "Iteration #2/5\n",
            "Time passed: 6.738014221191406\n",
            "Accuracy score: 0.8250666666666666\n",
            "--------------------\n",
            "Iteration #3/5\n",
            "Time passed: 6.3219499588012695\n",
            "Accuracy score: 0.7536\n",
            "--------------------\n",
            "Iteration #4/5\n",
            "Time passed: 5.946943998336792\n",
            "Accuracy score: 0.7970666666666667\n",
            "--------------------\n",
            "Iteration #5/5\n",
            "Time passed: 7.007684230804443\n",
            "Accuracy score: 0.8192\n",
            "--------------------\n",
            "FINAL AVERAGE VALUES\n",
            "Mean time: 6.560085868835449\n",
            "Mean accuracy: 0.7948266666666667\n"
          ]
        }
      ],
      "source": [
        "evaluate_random_binning_SVM(X_letter, y_letter, P=30, iterations=5)"
      ]
    },
    {
      "attachments": {},
      "cell_type": "markdown",
      "metadata": {},
      "source": [
        "## covtype.csv"
      ]
    },
    {
      "cell_type": "code",
      "execution_count": 7,
      "metadata": {},
      "outputs": [
        {
          "name": "stdout",
          "output_type": "stream",
          "text": [
            "(58101, 55)\n",
            "   Elevation  Aspect  Slope  Horizontal_Distance_To_Hydrology  \\\n",
            "0       3137     139     20                               162   \n",
            "1       3065     106      9                               234   \n",
            "2       3000      69     19                               384   \n",
            "3       3057     248      8                               430   \n",
            "4       2276      30     15                               384   \n",
            "\n",
            "   Vertical_Distance_To_Hydrology  Horizontal_Distance_To_Roadways  \\\n",
            "0                              39                             3830   \n",
            "1                              19                             3102   \n",
            "2                               8                              484   \n",
            "3                              66                             5850   \n",
            "4                             181                              570   \n",
            "\n",
            "   Hillshade_9am  Hillshade_Noon  Hillshade_3pm  \\\n",
            "0            246             229            101   \n",
            "1            235             229            125   \n",
            "2            236             200             88   \n",
            "3            202             247            182   \n",
            "4            214             205            123   \n",
            "\n",
            "   Horizontal_Distance_To_Fire_Points  ...  Soil_Type32  Soil_Type33  \\\n",
            "0                                2950  ...            0            0   \n",
            "1                                 849  ...            0            0   \n",
            "2                                1595  ...            0            0   \n",
            "3                                4686  ...            0            0   \n",
            "4                                 404  ...            0            0   \n",
            "\n",
            "   Soil_Type34  Soil_Type35  Soil_Type36  Soil_Type37  Soil_Type38  \\\n",
            "0            0            0            0            0            0   \n",
            "1            0            0            0            0            0   \n",
            "2            0            0            0            0            0   \n",
            "3            0            0            0            0            0   \n",
            "4            0            0            0            0            0   \n",
            "\n",
            "   Soil_Type39  Soil_Type40  Cover_Type  \n",
            "0            0            0           1  \n",
            "1            0            0           2  \n",
            "2            0            0           1  \n",
            "3            0            0           2  \n",
            "4            0            0           3  \n",
            "\n",
            "[5 rows x 55 columns]\n"
          ]
        }
      ],
      "source": [
        "df_covtype = pd.read_csv(\"covtype_10.csv\")\n",
        "df_covtype = df_covtype.drop(df_covtype.columns[0], axis=1)\n",
        "print(df_covtype.shape)\n",
        "print(df_covtype.head())"
      ]
    },
    {
      "cell_type": "code",
      "execution_count": 8,
      "metadata": {},
      "outputs": [],
      "source": [
        "y_covtype = df_covtype['Cover_Type'].to_numpy()[:30000]\n",
        "\n",
        "X_covtype = df_covtype.drop(\"Cover_Type\", axis=1).to_numpy()[:30000]"
      ]
    },
    {
      "cell_type": "code",
      "execution_count": 9,
      "metadata": {},
      "outputs": [
        {
          "name": "stderr",
          "output_type": "stream",
          "text": [
            "/var/folders/ms/rqsv0jdj1zggx3y8y5c08ggr0000gp/T/ipykernel_22182/1109951527.py:2: RuntimeWarning: invalid value encountered in divide\n",
            "  X_norm = (X - np.mean(X, axis=0)) / np.std(X, axis=0)\n"
          ]
        },
        {
          "name": "stdout",
          "output_type": "stream",
          "text": [
            "--------------------\n",
            "Iteration #1/5\n",
            "Time passed: 56.123246908187866\n",
            "Accuracy score: 0.6006666666666667\n",
            "--------------------\n",
            "Iteration #2/5\n",
            "Time passed: 59.70258092880249\n",
            "Accuracy score: 0.5852\n",
            "--------------------\n",
            "Iteration #3/5\n",
            "Time passed: 58.371793270111084\n",
            "Accuracy score: 0.6054666666666667\n",
            "--------------------\n",
            "Iteration #4/5\n",
            "Time passed: 69.64421701431274\n",
            "Accuracy score: 0.6050666666666666\n",
            "--------------------\n",
            "Iteration #5/5\n",
            "Time passed: 63.346566915512085\n",
            "Accuracy score: 0.606\n",
            "--------------------\n",
            "FINAL AVERAGE VALUES\n",
            "Mean time: 61.43768100738525\n",
            "Mean accuracy: 0.6004799999999999\n"
          ]
        }
      ],
      "source": [
        "evaluate_random_binning_SVM(X_covtype, y_covtype, P=30, iterations=5)"
      ]
    },
    {
      "attachments": {},
      "cell_type": "markdown",
      "metadata": {},
      "source": [
        "## star classification"
      ]
    },
    {
      "cell_type": "code",
      "execution_count": 13,
      "metadata": {},
      "outputs": [],
      "source": [
        "def vectorize_class(value):\n",
        "  if value == \"GALAXY\":\n",
        "    return 0\n",
        "  if value == \"STAR\":\n",
        "    return 1\n",
        "  return 2"
      ]
    },
    {
      "cell_type": "code",
      "execution_count": 14,
      "metadata": {},
      "outputs": [
        {
          "name": "stdout",
          "output_type": "stream",
          "text": [
            "(100000, 10)\n"
          ]
        },
        {
          "data": {
            "text/html": [
              "<div>\n",
              "<style scoped>\n",
              "    .dataframe tbody tr th:only-of-type {\n",
              "        vertical-align: middle;\n",
              "    }\n",
              "\n",
              "    .dataframe tbody tr th {\n",
              "        vertical-align: top;\n",
              "    }\n",
              "\n",
              "    .dataframe thead th {\n",
              "        text-align: right;\n",
              "    }\n",
              "</style>\n",
              "<table border=\"1\" class=\"dataframe\">\n",
              "  <thead>\n",
              "    <tr style=\"text-align: right;\">\n",
              "      <th></th>\n",
              "      <th>obj_ID</th>\n",
              "      <th>alpha</th>\n",
              "      <th>delta</th>\n",
              "      <th>u</th>\n",
              "      <th>g</th>\n",
              "      <th>r</th>\n",
              "      <th>i</th>\n",
              "      <th>z</th>\n",
              "      <th>class</th>\n",
              "      <th>redshift</th>\n",
              "    </tr>\n",
              "  </thead>\n",
              "  <tbody>\n",
              "    <tr>\n",
              "      <th>0</th>\n",
              "      <td>1.237661e+18</td>\n",
              "      <td>135.689107</td>\n",
              "      <td>32.494632</td>\n",
              "      <td>23.87882</td>\n",
              "      <td>22.27530</td>\n",
              "      <td>20.39501</td>\n",
              "      <td>19.16573</td>\n",
              "      <td>18.79371</td>\n",
              "      <td>0</td>\n",
              "      <td>0.634794</td>\n",
              "    </tr>\n",
              "    <tr>\n",
              "      <th>1</th>\n",
              "      <td>1.237665e+18</td>\n",
              "      <td>144.826101</td>\n",
              "      <td>31.274185</td>\n",
              "      <td>24.77759</td>\n",
              "      <td>22.83188</td>\n",
              "      <td>22.58444</td>\n",
              "      <td>21.16812</td>\n",
              "      <td>21.61427</td>\n",
              "      <td>0</td>\n",
              "      <td>0.779136</td>\n",
              "    </tr>\n",
              "    <tr>\n",
              "      <th>2</th>\n",
              "      <td>1.237661e+18</td>\n",
              "      <td>142.188790</td>\n",
              "      <td>35.582444</td>\n",
              "      <td>25.26307</td>\n",
              "      <td>22.66389</td>\n",
              "      <td>20.60976</td>\n",
              "      <td>19.34857</td>\n",
              "      <td>18.94827</td>\n",
              "      <td>0</td>\n",
              "      <td>0.644195</td>\n",
              "    </tr>\n",
              "    <tr>\n",
              "      <th>3</th>\n",
              "      <td>1.237663e+18</td>\n",
              "      <td>338.741038</td>\n",
              "      <td>-0.402828</td>\n",
              "      <td>22.13682</td>\n",
              "      <td>23.77656</td>\n",
              "      <td>21.61162</td>\n",
              "      <td>20.50454</td>\n",
              "      <td>19.25010</td>\n",
              "      <td>0</td>\n",
              "      <td>0.932346</td>\n",
              "    </tr>\n",
              "    <tr>\n",
              "      <th>4</th>\n",
              "      <td>1.237680e+18</td>\n",
              "      <td>345.282593</td>\n",
              "      <td>21.183866</td>\n",
              "      <td>19.43718</td>\n",
              "      <td>17.58028</td>\n",
              "      <td>16.49747</td>\n",
              "      <td>15.97711</td>\n",
              "      <td>15.54461</td>\n",
              "      <td>0</td>\n",
              "      <td>0.116123</td>\n",
              "    </tr>\n",
              "  </tbody>\n",
              "</table>\n",
              "</div>"
            ],
            "text/plain": [
              "         obj_ID       alpha      delta         u         g         r  \\\n",
              "0  1.237661e+18  135.689107  32.494632  23.87882  22.27530  20.39501   \n",
              "1  1.237665e+18  144.826101  31.274185  24.77759  22.83188  22.58444   \n",
              "2  1.237661e+18  142.188790  35.582444  25.26307  22.66389  20.60976   \n",
              "3  1.237663e+18  338.741038  -0.402828  22.13682  23.77656  21.61162   \n",
              "4  1.237680e+18  345.282593  21.183866  19.43718  17.58028  16.49747   \n",
              "\n",
              "          i         z  class  redshift  \n",
              "0  19.16573  18.79371      0  0.634794  \n",
              "1  21.16812  21.61427      0  0.779136  \n",
              "2  19.34857  18.94827      0  0.644195  \n",
              "3  20.50454  19.25010      0  0.932346  \n",
              "4  15.97711  15.54461      0  0.116123  "
            ]
          },
          "execution_count": 14,
          "metadata": {},
          "output_type": "execute_result"
        }
      ],
      "source": [
        "df_star = pd.read_csv(\"star_classification.csv\")\n",
        "df_star = df_star.drop([\"rerun_ID\", \"run_ID\", \"cam_col\", \"field_ID\", \"spec_obj_ID\", \"plate\", \"MJD\", \"fiber_ID\"], axis=1)\n",
        "df_star['class'] = df_star['class'].apply(lambda row: vectorize_class(row))\n",
        "print(df_star.shape)\n",
        "df_star.head()"
      ]
    },
    {
      "cell_type": "code",
      "execution_count": 15,
      "metadata": {},
      "outputs": [],
      "source": [
        "y_star = df_star['class'].to_numpy()[:50000]\n",
        "\n",
        "X_star = df_star.drop(\"class\", axis=1).to_numpy()[:50000]"
      ]
    },
    {
      "cell_type": "code",
      "execution_count": 16,
      "metadata": {},
      "outputs": [
        {
          "name": "stdout",
          "output_type": "stream",
          "text": [
            "--------------------\n",
            "Iteration #1/5\n",
            "Time passed: 74.84564304351807\n",
            "Accuracy score: 0.9292\n",
            "--------------------\n",
            "Iteration #2/5\n",
            "Time passed: 86.2202479839325\n",
            "Accuracy score: 0.96288\n",
            "--------------------\n",
            "Iteration #3/5\n",
            "Time passed: 89.73142695426941\n",
            "Accuracy score: 0.96352\n",
            "--------------------\n",
            "Iteration #4/5\n",
            "Time passed: 89.8348479270935\n",
            "Accuracy score: 0.96408\n",
            "--------------------\n",
            "Iteration #5/5\n",
            "Time passed: 97.27880692481995\n",
            "Accuracy score: 0.92432\n",
            "--------------------\n",
            "FINAL AVERAGE VALUES\n",
            "Mean time: 87.58219456672668\n",
            "Mean accuracy: 0.9488\n"
          ]
        }
      ],
      "source": [
        "evaluate_random_binning_SVM(X_star, y_star, P=30, iterations=5)"
      ]
    },
    {
      "attachments": {},
      "cell_type": "markdown",
      "metadata": {},
      "source": [
        "## MNIST"
      ]
    },
    {
      "cell_type": "code",
      "execution_count": 17,
      "metadata": {},
      "outputs": [
        {
          "name": "stdout",
          "output_type": "stream",
          "text": [
            "   label  1x1  1x2  1x3  1x4  1x5  1x6  1x7  1x8  1x9  ...  28x19  28x20  \\\n",
            "0      7    0    0    0    0    0    0    0    0    0  ...      0      0   \n",
            "1      2    0    0    0    0    0    0    0    0    0  ...      0      0   \n",
            "2      1    0    0    0    0    0    0    0    0    0  ...      0      0   \n",
            "3      0    0    0    0    0    0    0    0    0    0  ...      0      0   \n",
            "4      4    0    0    0    0    0    0    0    0    0  ...      0      0   \n",
            "\n",
            "   28x21  28x22  28x23  28x24  28x25  28x26  28x27  28x28  \n",
            "0      0      0      0      0      0      0      0      0  \n",
            "1      0      0      0      0      0      0      0      0  \n",
            "2      0      0      0      0      0      0      0      0  \n",
            "3      0      0      0      0      0      0      0      0  \n",
            "4      0      0      0      0      0      0      0      0  \n",
            "\n",
            "[5 rows x 785 columns]\n"
          ]
        }
      ],
      "source": [
        "df_mnist = pd.read_csv(\"mnist_test.csv\")\n",
        "print(df_mnist.head())"
      ]
    },
    {
      "cell_type": "code",
      "execution_count": 18,
      "metadata": {},
      "outputs": [],
      "source": [
        "y_mnist = df_mnist.label.values\n",
        "\n",
        "X_mnist = df_mnist[df_mnist.columns[1:]].values / 255"
      ]
    },
    {
      "cell_type": "code",
      "execution_count": 19,
      "metadata": {},
      "outputs": [
        {
          "name": "stderr",
          "output_type": "stream",
          "text": [
            "/var/folders/ms/rqsv0jdj1zggx3y8y5c08ggr0000gp/T/ipykernel_22182/1109951527.py:2: RuntimeWarning: invalid value encountered in divide\n",
            "  X_norm = (X - np.mean(X, axis=0)) / np.std(X, axis=0)\n"
          ]
        },
        {
          "name": "stdout",
          "output_type": "stream",
          "text": [
            "--------------------\n",
            "Iteration #1/5\n",
            "Time passed: 10.167913913726807\n",
            "Accuracy score: 0.8312\n",
            "--------------------\n",
            "Iteration #2/5\n",
            "Time passed: 9.823300123214722\n",
            "Accuracy score: 0.8264\n",
            "--------------------\n",
            "Iteration #3/5\n",
            "Time passed: 9.840606927871704\n",
            "Accuracy score: 0.8252\n",
            "--------------------\n",
            "Iteration #4/5\n",
            "Time passed: 10.486677169799805\n",
            "Accuracy score: 0.8168\n",
            "--------------------\n",
            "Iteration #5/5\n",
            "Time passed: 10.309889078140259\n",
            "Accuracy score: 0.8204\n",
            "--------------------\n",
            "FINAL AVERAGE VALUES\n",
            "Mean time: 10.125677442550659\n",
            "Mean accuracy: 0.8240000000000001\n"
          ]
        }
      ],
      "source": [
        "evaluate_random_binning_SVM(X_mnist, y_mnist, P=30, iterations=5)"
      ]
    },
    {
      "attachments": {},
      "cell_type": "markdown",
      "metadata": {},
      "source": []
    }
  ],
  "metadata": {
    "colab": {
      "provenance": []
    },
    "kernelspec": {
      "display_name": "Python 3",
      "name": "python3"
    },
    "language_info": {
      "codemirror_mode": {
        "name": "ipython",
        "version": 3
      },
      "file_extension": ".py",
      "mimetype": "text/x-python",
      "name": "python",
      "nbconvert_exporter": "python",
      "pygments_lexer": "ipython3",
      "version": "3.9.13"
    }
  },
  "nbformat": 4,
  "nbformat_minor": 0
}
